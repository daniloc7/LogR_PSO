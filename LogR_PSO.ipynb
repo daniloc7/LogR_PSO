{
  "nbformat": 4,
  "nbformat_minor": 0,
  "metadata": {
    "colab": {
      "provenance": [],
      "authorship_tag": "ABX9TyNV+OlJWkPGaDRonlfZc0yO",
      "include_colab_link": true
    },
    "kernelspec": {
      "name": "python3",
      "display_name": "Python 3"
    },
    "language_info": {
      "name": "python"
    }
  },
  "cells": [
    {
      "cell_type": "markdown",
      "metadata": {
        "id": "view-in-github",
        "colab_type": "text"
      },
      "source": [
        "<a href=\"https://colab.research.google.com/github/daniloc7/LogR_PSO/blob/main/LogR_PSO.ipynb\" target=\"_parent\"><img src=\"https://colab.research.google.com/assets/colab-badge.svg\" alt=\"Open In Colab\"/></a>"
      ]
    },
    {
      "cell_type": "code",
      "source": [
        "# !pip install pyswarm\n",
        "!pip install pyswarms"
      ],
      "metadata": {
        "id": "_oMh2sIBkLW0"
      },
      "execution_count": null,
      "outputs": []
    },
    {
      "cell_type": "code",
      "execution_count": 5,
      "metadata": {
        "id": "OA4ShL75kBmI"
      },
      "outputs": [],
      "source": [
        "import pandas as pd\n",
        "from sklearn.model_selection import GridSearchCV\n",
        "from sklearn.model_selection import train_test_split\n",
        "from sklearn.linear_model import LogisticRegression\n",
        "from sklearn.utils import class_weight\n",
        "from sklearn.metrics import classification_report\n",
        "import numpy as np\n",
        "import pyswarms as ps\n",
        "from matplotlib import pyplot as plt\n",
        "from sklearn.metrics import balanced_accuracy_score\n",
        "from sklearn.metrics import r2_score, explained_variance_score, confusion_matrix, accuracy_score, classification_report, log_loss\n"
      ]
    },
    {
      "cell_type": "code",
      "source": [
        "# Loading the data\n",
        "# data = pd.read_csv('/content/diabetes.csv')\n",
        "data = pd.read_csv('/content/sample_data/AID362red_train.csv')\n",
        "print(data.shape)\n",
        "X = data.drop('Outcome', axis=1)\n",
        "y = data['Outcome']"
      ],
      "metadata": {
        "id": "bv_7a2CakVf5"
      },
      "execution_count": null,
      "outputs": []
    },
    {
      "cell_type": "code",
      "source": [
        "#contagem das classes\n",
        "class_counts = data['Outcome'].value_counts()\n",
        "\n",
        "print(class_counts)"
      ],
      "metadata": {
        "id": "PN2f1_IZbCSo"
      },
      "execution_count": null,
      "outputs": []
    },
    {
      "cell_type": "code",
      "source": [
        "X_train, X_test, y_train, y_test = train_test_split(X, y, test_size=0.2, random_state=42)\n"
      ],
      "metadata": {
        "id": "Ltyc8u-_kh7y"
      },
      "execution_count": 7,
      "outputs": []
    },
    {
      "cell_type": "code",
      "source": [
        "clf = LogisticRegression(solver='liblinear', fit_intercept=True, max_iter=1000, penalty='l2', random_state=42, class_weight = 'balanced')\n",
        "# clf = LogisticRegression(solver='liblinear', fit_intercept=True, max_iter=1000, penalty='l2', random_state=42, class_weight = 'balanced')\n",
        "clf.fit(X_train, y_train) #treina o modelo, vai ser realizado um ajuste parar determinar os coeficientes\n",
        "predictions = clf.predict(X_test)\n"
      ],
      "metadata": {
        "id": "ynrfE5GKkj9g"
      },
      "execution_count": 32,
      "outputs": []
    },
    {
      "cell_type": "code",
      "source": [
        "cm = confusion_matrix(y, clf.predict(X))\n",
        "\n",
        "fig, ax = plt.subplots(figsize=(8, 8))\n",
        "ax.imshow(cm)\n",
        "ax.grid(False)\n",
        "ax.xaxis.set(ticks=(0, 1), ticklabels=('Predito 0s', 'Predito 1s'))\n",
        "ax.yaxis.set(ticks=(0, 1), ticklabels=('Atual 0s', 'Atual 1s'))\n",
        "ax.set_ylim(1.5, -0.5)\n",
        "for i in range(2):\n",
        "  for j in range(2):\n",
        "    ax.text(j, i, cm[i, j], ha='center', va='center', color='red')\n",
        "plt.show()"
      ],
      "metadata": {
        "id": "0IlQMc2v0h_3"
      },
      "execution_count": null,
      "outputs": []
    },
    {
      "cell_type": "code",
      "source": [
        "#validação cruzada para comparação\n",
        "# def optimize(X_train, y_train):\n",
        "\n",
        "#    #a função grid_search vai realizar os testes com esses valores abaixo de C, o que for melhor, é salvo em C_opt\n",
        "#     param_grid = {'C': [0.01, 0.1, 1, 10, 100]}\n",
        "\n",
        "#     model = LogisticRegression(solver='liblinear', fit_intercept=True, penalty='l2')\n",
        "\n",
        "#     grid_search = GridSearchCV(model, param_grid, scoring='balanced_accuracy', cv=5)\n",
        "\n",
        "#     grid_search.fit(X_train, y_train)\n",
        "\n",
        "#     # pega o melhor parametro para otimizar\n",
        "#     print(grid_search.best_params_['C'])\n",
        "#     return grid_search.best_params_['C']\n",
        "\n",
        "#\n",
        "# C_opt = optimize(X_train, y_train)\n",
        "# print(optimize)\n",
        "\n",
        "# print('Melhor valor C:', C_opt)"
      ],
      "metadata": {
        "id": "8m93cu7skuC6"
      },
      "execution_count": null,
      "outputs": []
    },
    {
      "cell_type": "code",
      "source": [
        "# # MAIS DIMENSOES\n",
        "def optimize(X, y):\n",
        "    n_particles = 100\n",
        "    dimensions = X.shape[1]  # numeros de colunas(coeficientes)\n",
        "    bounds = (np.array([0.01] * dimensions), np.array([10] * dimensions))\n",
        "    options = {'c1': 1.496180, 'c2': 1.496180, 'w': 0.729844} #Cognitive coefficient Social coefficient Inertia coefficient\n",
        "    optimizer = ps.single.GlobalBestPSO(n_particles=n_particles, dimensions=dimensions, bounds=bounds, options=options)\n",
        "\n",
        "    def fitness_function(coefficients, X_train, y_train):\n",
        "        model = LogisticRegression(solver='liblinear', fit_intercept=True)\n",
        "        model.coef_ = coefficients.reshape(1, -1)\n",
        "\n",
        "        model.fit(X_train, y_train)\n",
        "        predictions = model.predict(X_train)\n",
        "        # print('Score Antigo: '+str(balanced_accuracy_score(y,predictions)))\n",
        "        return -balanced_accuracy_score(y_train,predictions)\n",
        "\n",
        "    cost, theta = optimizer.optimize(lambda x: fitness_function(x, X_train, y_train), iters=100)\n",
        "    return theta\n",
        "\n",
        "optimized_params = optimize(X_train, y_train)\n",
        "optimized_params.sort()\n",
        "print(optimized_params)\n",
        "\n"
      ],
      "metadata": {
        "id": "5DJtW1s_uitR"
      },
      "execution_count": null,
      "outputs": []
    },
    {
      "cell_type": "code",
      "source": [
        "#Mais dimensoes\n",
        "#C=(optimized_params[0])\n",
        "#C=C_opt\n",
        "# logreg = LogisticRegression(solver='liblinear', fit_intercept=True, C=optimized_params[0], penalty='l2', class_weight='balanced', max_iter= 1000)  # logreg.coef_ = optimized_params.reshape(1, -1)\n",
        "logreg = LogisticRegression(solver='liblinear', fit_intercept=True, C=optimized_params[0], penalty='l2', class_weight='balanced', max_iter= 1000)\n",
        "logreg.coef_ = optimized_params.reshape(1, -1) #define os parametros otimizados pelo PSO\n",
        "logreg.fit(X_train, y_train)"
      ],
      "metadata": {
        "id": "mIKOW6xpvNXd"
      },
      "execution_count": null,
      "outputs": []
    },
    {
      "cell_type": "code",
      "source": [
        "y_pred_dps = logreg.predict(X_test)\n",
        "print(classification_report(y_test, predictions, zero_division=1))\n",
        "print(classification_report(y_test, y_pred_dps, zero_division=1))\n",
        "print('Score Antigo: '+str(balanced_accuracy_score(y_test, predictions)))\n",
        "print('Score Novo: '+str(balanced_accuracy_score(y_test, y_pred_dps)))\n",
        "\n",
        "# print('Score usando .score: '+str(logreg.score(X,y)))"
      ],
      "metadata": {
        "id": "dqHd3vtonfjJ"
      },
      "execution_count": null,
      "outputs": []
    },
    {
      "cell_type": "code",
      "source": [
        "cm = confusion_matrix(y, logreg.predict(X))\n",
        "\n",
        "fig, ax = plt.subplots(figsize=(8, 8))\n",
        "ax.imshow(cm)\n",
        "ax.grid(False)\n",
        "ax.xaxis.set(ticks=(0, 1), ticklabels=('Predito 0s', 'Predito 1s'))\n",
        "ax.yaxis.set(ticks=(0, 1), ticklabels=('Atual 0s', 'Atual 1s'))\n",
        "ax.set_ylim(1.5, -0.5)\n",
        "for i in range(2):\n",
        "  for j in range(2):\n",
        "    ax.text(j, i, cm[i, j], ha='center', va='center', color='red')\n",
        "plt.show()"
      ],
      "metadata": {
        "id": "IhDry0XW1TmD",
        "colab": {
          "base_uri": "https://localhost:8080/",
          "height": 676
        },
        "outputId": "9fa949f6-621f-49a8-ffba-688075ffb151"
      },
      "execution_count": 44,
      "outputs": [
        {
          "output_type": "display_data",
          "data": {
            "text/plain": [
              "<Figure size 800x800 with 1 Axes>"
            ],
            "image/png": "[encoded data removed]"
          },
          "metadata": {}
        }
      ]
    }
  ]
}